{
 "cells": [
  {
   "cell_type": "code",
   "execution_count": 71,
   "metadata": {},
   "outputs": [],
   "source": [
    "import json, numpy as np, pandas as pd\n",
    "ratio = pd.read_csv(\"ratio.csv\")\n",
    "us_states = pd.read_json(\"us_states_raw.json\")\n",
    "ratio_dict = ratio.to_dict(orient=\"records\")"
   ]
  },
  {
   "cell_type": "code",
   "execution_count": 72,
   "metadata": {},
   "outputs": [],
   "source": [
    "def find_state_info(state_name, state_dict):\n",
    "    for stateinfo in state_dict:\n",
    "        if stateinfo[\"state\"] == state_name:\n",
    "            return stateinfo\n",
    "        \n",
    "find_state_info(\"Puerto Rico\", ratio_dict)"
   ]
  },
  {
   "cell_type": "code",
   "execution_count": 73,
   "metadata": {},
   "outputs": [],
   "source": [
    "for feature in us_states.features:\n",
    "    if feature[\"properties\"][\"name\"] != \"Puerto Rico\":\n",
    "        feature[\"properties\"].update(find_state_info(feature[\"properties\"][\"name\"], ratio_dict))"
   ]
  },
  {
   "cell_type": "code",
   "execution_count": 74,
   "metadata": {},
   "outputs": [],
   "source": [
    "us_states_json = us_states.to_json()\n",
    "with open('us_states.json', 'w') as outfile:  \n",
    "    json.dump(us_states_json, outfile)"
   ]
  }
 ],
 "metadata": {
  "kernelspec": {
   "display_name": "Python 3",
   "language": "python",
   "name": "python3"
  },
  "language_info": {
   "codemirror_mode": {
    "name": "ipython",
    "version": 3
   },
   "file_extension": ".py",
   "mimetype": "text/x-python",
   "name": "python",
   "nbconvert_exporter": "python",
   "pygments_lexer": "ipython3",
   "version": "3.7.1"
  }
 },
 "nbformat": 4,
 "nbformat_minor": 2
}
